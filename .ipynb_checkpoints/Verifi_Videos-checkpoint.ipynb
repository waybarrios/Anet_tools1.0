{
 "metadata": {
  "name": "",
  "signature": "sha256:b9f8d19cd9f6c9acbf0c585d2483067a54df5f5a6d80efb18512492db8c9ac4e"
 },
 "nbformat": 3,
 "nbformat_minor": 0,
 "worksheets": [
  {
   "cells": [
    {
     "cell_type": "code",
     "collapsed": false,
     "input": [
      "#Libs\n",
      "from IPython.display import YouTubeVideo\n",
      "import numpy as np\n"
     ],
     "language": "python",
     "metadata": {},
     "outputs": [],
     "prompt_number": 52
    },
    {
     "cell_type": "code",
     "collapsed": false,
     "input": [
      "youtube_ids=np.load('data/array_list_id.npy')\n",
      "names_class=np.load('data/array_list_names.npy')\n"
     ],
     "language": "python",
     "metadata": {},
     "outputs": [],
     "prompt_number": 53
    },
    {
     "cell_type": "code",
     "collapsed": false,
     "input": [
      "#Initialize index\n",
      "index=0\n",
      "print index \n",
      "\n",
      "#Run this cell restart index's value\n",
      "\n",
      "\n",
      "decis=[]\n",
      "\n"
     ],
     "language": "python",
     "metadata": {},
     "outputs": [
      {
       "output_type": "stream",
       "stream": "stdout",
       "text": [
        "0\n"
       ]
      }
     ],
     "prompt_number": 54
    },
    {
     "cell_type": "code",
     "collapsed": false,
     "input": [
      "\n",
      "YouTubeVideo(youtube_ids[index])\n",
      "\n"
     ],
     "language": "python",
     "metadata": {},
     "outputs": [
      {
       "html": [
        "\n",
        "        <iframe\n",
        "            width=\"400\"\n",
        "            height=300\"\n",
        "            src=\"https://www.youtube.com/embed/3joaQzU05MY\"\n",
        "            frameborder=\"0\"\n",
        "            allowfullscreen\n",
        "        ></iframe>\n",
        "        "
       ],
       "metadata": {},
       "output_type": "pyout",
       "prompt_number": 92,
       "text": [
        "<IPython.lib.display.YouTubeVideo at 0x7f11cd7bb0d0>"
       ]
      }
     ],
     "prompt_number": 92
    },
    {
     "cell_type": "code",
     "collapsed": false,
     "input": [
      "\n",
      "print names_class[index]\n",
      "\n",
      "print \"\"\n",
      "\n",
      "print \"El Index con valor de: \",index\n"
     ],
     "language": "python",
     "metadata": {},
     "outputs": [
      {
       "output_type": "stream",
       "stream": "stdout",
       "text": [
        "Hopscotch\n",
        "\n",
        "El Index con valor de:  11\n"
       ]
      }
     ],
     "prompt_number": 93
    },
    {
     "cell_type": "code",
     "collapsed": false,
     "input": [
      "move = raw_input(\"Does the video corresponds with the class (y/n)? \")\n",
      "decis.append(move)\n",
      "index+=1"
     ],
     "language": "python",
     "metadata": {},
     "outputs": []
    },
    {
     "cell_type": "code",
     "collapsed": false,
     "input": [
      "print decis\n",
      "print \"Tama\u00f1o de Decision es: \",len(decis)\n"
     ],
     "language": "python",
     "metadata": {},
     "outputs": [
      {
       "output_type": "stream",
       "stream": "stdout",
       "text": [
        "['y', 'y', 'y', 'y', 'y', 'y', 'y', 'y', 'n', 'y', 'y']\n",
        "Tama\u00f1o de Decision es:  11\n"
       ]
      }
     ],
     "prompt_number": 91
    },
    {
     "cell_type": "code",
     "collapsed": false,
     "input": [],
     "language": "python",
     "metadata": {},
     "outputs": []
    }
   ],
   "metadata": {}
  }
 ]
}